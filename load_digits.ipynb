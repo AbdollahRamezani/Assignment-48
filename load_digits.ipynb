{
 "cells": [
  {
   "cell_type": "code",
   "execution_count": 49,
   "metadata": {},
   "outputs": [],
   "source": [
    "import numpy as np\n",
    "from sklearn.datasets import load_digits\n",
    "from sklearn.model_selection import train_test_split"
   ]
  },
  {
   "cell_type": "code",
   "execution_count": 50,
   "metadata": {},
   "outputs": [],
   "source": [
    "dataset = load_digits()\n",
    "# dataset"
   ]
  },
  {
   "cell_type": "code",
   "execution_count": 30,
   "metadata": {},
   "outputs": [
    {
     "data": {
      "text/plain": [
       "(1797, 64)"
      ]
     },
     "execution_count": 30,
     "metadata": {},
     "output_type": "execute_result"
    }
   ],
   "source": [
    "dataset.data.shape"
   ]
  },
  {
   "cell_type": "code",
   "execution_count": 31,
   "metadata": {},
   "outputs": [
    {
     "data": {
      "text/plain": [
       "(1797, 8, 8)"
      ]
     },
     "execution_count": 31,
     "metadata": {},
     "output_type": "execute_result"
    }
   ],
   "source": [
    "dataset.images.shape"
   ]
  },
  {
   "cell_type": "code",
   "execution_count": 32,
   "metadata": {},
   "outputs": [
    {
     "data": {
      "text/plain": [
       "(1797,)"
      ]
     },
     "execution_count": 32,
     "metadata": {},
     "output_type": "execute_result"
    }
   ],
   "source": [
    "dataset.target.shape"
   ]
  },
  {
   "cell_type": "code",
   "execution_count": 51,
   "metadata": {},
   "outputs": [
    {
     "data": {
      "text/plain": [
       "((1437, 64), (360, 64), (1437, 10), (360, 10))"
      ]
     },
     "execution_count": 51,
     "metadata": {},
     "output_type": "execute_result"
    }
   ],
   "source": [
    "X = dataset.data\n",
    "Y = dataset.target\n",
    "Y = np.eye(10)[Y]  \n",
    "\n",
    "X_train, X_test, Y_train, Y_test = train_test_split(X, Y, test_size=0.2)\n",
    "X_train.shape, X_test.shape, Y_train.shape, Y_test.shape"
   ]
  },
  {
   "cell_type": "code",
   "execution_count": 52,
   "metadata": {},
   "outputs": [],
   "source": [
    "def sigmoid(X):\n",
    "    return 1 / (1 + np.exp(-X))\n",
    "\n",
    "def softmax(X):  \n",
    "    return np.exp(X) / np.sum(np.exp(X))\n",
    "\n",
    "def root_mean_squired_error(Y_gt, Y_pred):\n",
    "    return np.sqrt(np.mean((Y_gt - Y_pred) ** 2))\n"
   ]
  },
  {
   "cell_type": "code",
   "execution_count": 53,
   "metadata": {},
   "outputs": [],
   "source": [
    "epochs = 80\n",
    "η = 0.001  # learning rate\n",
    "\n",
    "D_in = X_train.shape[1]  \n",
    "H1 = 128  \n",
    "H2 = 32  \n",
    "D_out = Y_train.shape[1] "
   ]
  },
  {
   "cell_type": "code",
   "execution_count": 54,
   "metadata": {},
   "outputs": [],
   "source": [
    "W1 = np.random.randn(D_in, H1)  \n",
    "W2 = np.random.randn(H1, H2) \n",
    "W3 = np.random.randn(H2, D_out) "
   ]
  },
  {
   "cell_type": "code",
   "execution_count": 55,
   "metadata": {},
   "outputs": [],
   "source": [
    "B1 = np.random.randn(1, H1)  \n",
    "B2 = np.random.randn(1, H2)\n",
    "B3 = np.random.randn(1, D_out)"
   ]
  },
  {
   "cell_type": "code",
   "execution_count": null,
   "metadata": {},
   "outputs": [],
   "source": [
    "#train\n",
    "\n",
    "for epoch in range(epochs):\n",
    "    Y_pred = []\n",
    "    for x, y in zip(X_train, Y_train):\n",
    "        x = x.reshape(-1, 1)\n",
    "        # forward\n",
    "\n",
    "        #layer 1\n",
    "        out1 = sigmoid(x.T @ W1 + B1)\n",
    "\n",
    "        #layer 2\n",
    "        out2 = sigmoid(out1 @ W2 + B2)\n",
    "\n",
    "        #layer 3\n",
    "        out3 = softmax(out2 @ W3 + B3)\n",
    "        y_pred = out3\n",
    "        Y_pred.append(y_pred)\n",
    "\n",
    "        loss = root_mean_squired_error(y, y_pred)\n",
    "\n",
    "        # backward     \n",
    "\n",
    "        #layer 3\n",
    "        error = -2 * (y - y_pred) \n",
    "        grad_B3 = error\n",
    "        grad_W3 = out2.T @ error\n",
    "\n",
    "        #layer 2\n",
    "        error = error @ W3.T * out2 * (1 - out2) \n",
    "        grad_B2 = error\n",
    "        grad_W2 = out1.T @ error\n",
    "\n",
    "        #layer 1\n",
    "        error = error @ W2.T * out1*(1 - out1) \n",
    "        grad_B1 = error\n",
    "        grad_W1 = x @ error\n",
    "\n",
    "        # update\n",
    "\n",
    "        #layer 1\n",
    "        W1 -= η * grad_W1\n",
    "        B1 -= η * grad_B1\n",
    "\n",
    "        #layer 2\n",
    "        W2 -= η * grad_W2\n",
    "        B2 -= η * grad_B2\n",
    "\n",
    "        #layer 3\n",
    "        W3 -= η * grad_W3\n",
    "        B3 -= η * grad_B3\n",
    "\n",
    "    Y_pred = np.array(Y_pred).reshape(-1, 10)   \n",
    "    loss_train = root_mean_squired_error(Y_train, Y_pred)\n",
    "    accuracy_train = np.sum(np.argmax(Y_train, axis=1) == np.argmax(Y_pred, axis=1)) / len(Y_train)\n",
    "    \n",
    "    print(\"loss:\", loss_train)\n",
    "    print(\"accuracy:\", accuracy_train)"
   ]
  },
  {
   "cell_type": "code",
   "execution_count": null,
   "metadata": {},
   "outputs": [],
   "source": [
    "#test\n",
    "\n",
    "for epoch in range(epochs):\n",
    "    Y_pred = []\n",
    "    for x, y in zip(X_test, Y_test):\n",
    "        x = x.reshape(-1, 1)\n",
    "        # forward\n",
    "\n",
    "        #layer 1\n",
    "        out1 = sigmoid(x.T @ W1 + B1)\n",
    "\n",
    "        #layer 2\n",
    "        out2 = sigmoid(out1 @ W2 + B2)\n",
    "\n",
    "        #layer 3\n",
    "        out3 = softmax(out2 @ W3 + B3)\n",
    "        y_pred = out3\n",
    "        Y_pred.append(y_pred)\n",
    "\n",
    "        loss = root_mean_squired_error(y, y_pred)\n",
    "\n",
    "    Y_pred = np.array(Y_pred).reshape(-1, 10)   \n",
    "    loss_test = root_mean_squired_error(Y_test, Y_pred)\n",
    "    accuracy_test = np.sum(np.argmax(Y_test, axis=1) == np.argmax(Y_pred, axis=1)) / len(Y_test)\n",
    "    \n",
    "    print(\"loss:\", loss_test)\n",
    "    print(\"accuracy:\", accuracy_test)    "
   ]
  },
  {
   "cell_type": "code",
   "execution_count": 58,
   "metadata": {},
   "outputs": [
    {
     "name": "stdout",
     "output_type": "stream",
     "text": [
      "4\n"
     ]
    }
   ],
   "source": [
    "# predict\n",
    "\n",
    "import cv2\n",
    "\n",
    "image = cv2.imread(\"input/4.png\")\n",
    "image = cv2.cvtColor(image, cv2.COLOR_BGR2GRAY)\n",
    "image = image.astype(np.float32)\n",
    "\n",
    "x = image.reshape(-1, 1)\n",
    "\n",
    "# layer 1\n",
    "net1 = x.T @ W1 + B1\n",
    "out1 = sigmoid(net1)\n",
    "\n",
    "# layer 2\n",
    "net2 = out1 @ W2 + B2\n",
    "out2 = sigmoid(net2)\n",
    "\n",
    "# layer 3\n",
    "net3 = out2 @ W3 + B3\n",
    "out3 = softmax(net3)\n",
    "\n",
    "y_pred = out3\n",
    "print(np.argmax(y_pred))"
   ]
  }
 ],
 "metadata": {
  "kernelspec": {
   "display_name": "Python 3",
   "language": "python",
   "name": "python3"
  },
  "language_info": {
   "codemirror_mode": {
    "name": "ipython",
    "version": 3
   },
   "file_extension": ".py",
   "mimetype": "text/x-python",
   "name": "python",
   "nbconvert_exporter": "python",
   "pygments_lexer": "ipython3",
   "version": "3.10.8"
  },
  "orig_nbformat": 4
 },
 "nbformat": 4,
 "nbformat_minor": 2
}
